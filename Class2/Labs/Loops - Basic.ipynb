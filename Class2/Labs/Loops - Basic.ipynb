{
 "cells": [
  {
   "cell_type": "markdown",
   "metadata": {},
   "source": [
    "### Basic Loops\n",
    "\n",
    "**Who This Workbook Is For**:  If you're newer to python and want to do simple exercises to make sure you feel like you 'get it', and don't have any confusions about basic syntax, then this is the workbook for you.\n",
    "\n",
    "If you want something more engaging that's not geared towards beginners, please use the other workbook."
   ]
  },
  {
   "cell_type": "markdown",
   "metadata": {},
   "source": [
    "**Step 1:** Loop through the list, and print the name of each item in the list. "
   ]
  },
  {
   "cell_type": "code",
   "execution_count": 5,
   "metadata": {},
   "outputs": [],
   "source": [
    "fruits = ['bananas', 'cumquat', 'watermelon', 'cherry', 'mango', 'soursop', 'apricot', 'nectarine']"
   ]
  },
  {
   "cell_type": "code",
   "execution_count": 6,
   "metadata": {},
   "outputs": [
    {
     "name": "stdout",
     "output_type": "stream",
     "text": [
      "bananas\n",
      "cumquat\n",
      "watermelon\n",
      "cherry\n",
      "mango\n",
      "soursop\n",
      "apricot\n",
      "nectarine\n"
     ]
    }
   ],
   "source": [
    "for item in fruits:\n",
    "    print(item)"
   ]
  },
  {
   "cell_type": "markdown",
   "metadata": {},
   "source": [
    "**Step 2:** Loop through the list, and print the name of each item, as well as its length"
   ]
  },
  {
   "cell_type": "code",
   "execution_count": 7,
   "metadata": {},
   "outputs": [
    {
     "name": "stdout",
     "output_type": "stream",
     "text": [
      "bananas 7\n",
      "cumquat 7\n",
      "watermelon 10\n",
      "cherry 6\n",
      "mango 5\n",
      "soursop 7\n",
      "apricot 7\n",
      "nectarine 9\n"
     ]
    }
   ],
   "source": [
    "for item in fruits:\n",
    "    print(item, len(item))"
   ]
  },
  {
   "cell_type": "markdown",
   "metadata": {},
   "source": [
    "**Step 3:** Loop through the list, and print the name of the item, *if it's length is an even number*"
   ]
  },
  {
   "cell_type": "code",
   "execution_count": 8,
   "metadata": {},
   "outputs": [
    {
     "name": "stdout",
     "output_type": "stream",
     "text": [
      "watermelon\n",
      "cherry\n"
     ]
    }
   ],
   "source": [
    "for item in fruits:\n",
    "    if len(item) % 2 == 0:\n",
    "        print(item)"
   ]
  },
  {
   "cell_type": "markdown",
   "metadata": {},
   "source": [
    "**Step 4:** Create a variable that's an empty list, and add the item in the `fruits` list to it if it's length is an even number."
   ]
  },
  {
   "cell_type": "code",
   "execution_count": 9,
   "metadata": {},
   "outputs": [
    {
     "data": {
      "text/plain": [
       "['watermelon', 'cherry']"
      ]
     },
     "execution_count": 9,
     "metadata": {},
     "output_type": "execute_result"
    }
   ],
   "source": [
    "other_list = []\n",
    "\n",
    "for item in fruits:\n",
    "    if len(item) % 2 == 0:\n",
    "        other_list.append(item)\n",
    "\n",
    "other_list"
   ]
  },
  {
   "cell_type": "markdown",
   "metadata": {},
   "source": [
    "**Step 5:** Loop through the `fruits` list, but *stop* the loop as soon as you come across an item that's more than 7 characters long."
   ]
  },
  {
   "cell_type": "code",
   "execution_count": 10,
   "metadata": {},
   "outputs": [
    {
     "name": "stdout",
     "output_type": "stream",
     "text": [
      "bananas\n",
      "cumquat\n"
     ]
    }
   ],
   "source": [
    "for item in fruits:\n",
    "    if len(item) > 7:\n",
    "        break\n",
    "    print(item)"
   ]
  },
  {
   "cell_type": "markdown",
   "metadata": {},
   "source": [
    "**Step 6:** Create a loop that only prints every third item in the list\n",
    "\n",
    "**Hint:** `enumerate()` is a useful function for this sort of thing.  More info on that here:  https://www.programiz.com/python-programming/methods/built-in/enumerate"
   ]
  },
  {
   "cell_type": "code",
   "execution_count": 11,
   "metadata": {},
   "outputs": [
    {
     "name": "stdout",
     "output_type": "stream",
     "text": [
      "0 bananas\n",
      "3 cherry\n",
      "6 apricot\n"
     ]
    }
   ],
   "source": [
    "for index, item in enumerate(fruits):\n",
    "    if index % 3 == 0:\n",
    "        print(index, item)"
   ]
  },
  {
   "cell_type": "code",
   "execution_count": null,
   "metadata": {},
   "outputs": [],
   "source": []
  }
 ],
 "metadata": {
  "kernelspec": {
   "display_name": "Python 3",
   "language": "python",
   "name": "python3"
  },
  "language_info": {
   "codemirror_mode": {
    "name": "ipython",
    "version": 3
   },
   "file_extension": ".py",
   "mimetype": "text/x-python",
   "name": "python",
   "nbconvert_exporter": "python",
   "pygments_lexer": "ipython3",
   "version": "3.8.3"
  }
 },
 "nbformat": 4,
 "nbformat_minor": 2
}
